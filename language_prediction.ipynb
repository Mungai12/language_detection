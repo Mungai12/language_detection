{
 "cells": [
  {
   "cell_type": "code",
   "execution_count": 29,
   "outputs": [],
   "source": [
    "import random\n",
    "\n",
    "class Language:\n",
    "    ENGLISH = 'ENGLISH'\n",
    "    SWAHILI = 'SWAHILI'\n",
    "\n",
    "class Phrase:\n",
    "    def __init__(self, text, lang):\n",
    "        self.text = text\n",
    "        self.lang = lang\n",
    "        self.language = self.get_language()\n",
    "    \n",
    "    def get_language(self):\n",
    "        if self.lang == 'en':\n",
    "            return Language.ENGLISH\n",
    "        elif  self.lang == 'sw':\n",
    "            return  Language.SWAHILI\n",
    "        else:\n",
    "            pass\n",
    "    \n",
    "class PhraseContainer:\n",
    "    def __init__(self, phrases):\n",
    "        self.phrases = phrases\n",
    "    \n",
    "    def get_text(self):\n",
    "        return [x.text for x in self.phrases]\n",
    "    \n",
    "    def get_language_which(self):\n",
    "        return [x.language for x in self.phrases]\n",
    "    \n",
    "    def evenly_distribute(self):\n",
    "        random.shuffle(self.phrases)\n",
    "            \n",
    "    \n",
    "    "
   ],
   "metadata": {
    "collapsed": false,
    "ExecuteTime": {
     "end_time": "2023-11-07T21:46:50.654523100Z",
     "start_time": "2023-11-07T21:46:50.636669200Z"
    }
   },
   "id": "f7b666fb3bd615f5"
  },
  {
   "cell_type": "markdown",
   "source": [
    "#### Load Data"
   ],
   "metadata": {
    "collapsed": false
   },
   "id": "3e46b6bd1c21f6a0"
  },
  {
   "cell_type": "code",
   "execution_count": 30,
   "outputs": [],
   "source": [
    "import json\n",
    "\n",
    "filename = 'corpora.json'\n",
    "\n",
    "phrases = []\n",
    "with open (filename) as f:\n",
    "    data = json.load(f)\n",
    "    for dictionary in data:\n",
    "        phrases.append(Phrase(dictionary['text'], dictionary['lang_id']))"
   ],
   "metadata": {
    "collapsed": false,
    "ExecuteTime": {
     "end_time": "2023-11-07T21:46:51.021102800Z",
     "start_time": "2023-11-07T21:46:50.674518300Z"
    }
   },
   "id": "d18f811e178cf5ce"
  },
  {
   "cell_type": "markdown",
   "source": [
    "#### Prep Data"
   ],
   "metadata": {
    "collapsed": false
   },
   "id": "369f720785e7d418"
  },
  {
   "cell_type": "code",
   "execution_count": 31,
   "outputs": [],
   "source": [
    "from sklearn.model_selection import train_test_split\n",
    "\n",
    "random.shuffle(phrases)\n",
    "training, test = train_test_split(phrases, test_size=0.33, random_state=42)\n",
    "\n",
    "train_container = PhraseContainer(training)\n",
    "\n",
    "test_container = PhraseContainer(test)"
   ],
   "metadata": {
    "collapsed": false,
    "ExecuteTime": {
     "end_time": "2023-11-07T21:46:51.103262400Z",
     "start_time": "2023-11-07T21:46:51.026107600Z"
    }
   },
   "id": "a5de59659b337490"
  },
  {
   "cell_type": "code",
   "execution_count": 40,
   "outputs": [
    {
     "name": "stdout",
     "output_type": "stream",
     "text": [
      "18743\n",
      "11187\n"
     ]
    }
   ],
   "source": [
    "train_container.evenly_distribute()\n",
    "train_x = train_container.get_text()\n",
    "train_y = train_container.get_language_which()\n",
    "\n",
    "test_container.evenly_distribute()\n",
    "test_x = test_container.get_text()\n",
    "test_y = test_container.get_language_which()\n",
    "\n",
    "print(train_y.count(Language.ENGLISH))\n",
    "print(train_y.count(Language.SWAHILI))"
   ],
   "metadata": {
    "collapsed": false,
    "ExecuteTime": {
     "end_time": "2023-11-07T21:58:31.456473200Z",
     "start_time": "2023-11-07T21:58:31.441956500Z"
    }
   },
   "id": "3724b845bffc5d98"
  },
  {
   "cell_type": "code",
   "execution_count": 41,
   "outputs": [
    {
     "data": {
      "text/plain": "'A light part song, or madrigal, with a fa la burden or chorus,-- most common with the Elizabethan madrigal composers.'"
     },
     "execution_count": 41,
     "metadata": {},
     "output_type": "execute_result"
    }
   ],
   "source": [
    "training[978].text"
   ],
   "metadata": {
    "collapsed": false,
    "ExecuteTime": {
     "end_time": "2023-11-07T21:58:36.969641200Z",
     "start_time": "2023-11-07T21:58:36.940051100Z"
    }
   },
   "id": "825deee2bba21d7e"
  },
  {
   "cell_type": "markdown",
   "source": [
    "#### Bag of words vectorization"
   ],
   "metadata": {
    "collapsed": false
   },
   "id": "8dc6b7a07f86d5bf"
  },
  {
   "cell_type": "code",
   "execution_count": 42,
   "outputs": [
    {
     "name": "stdout",
     "output_type": "stream",
     "text": [
      "[[0. 0. 0. ... 0. 0. 0.]]\n"
     ]
    }
   ],
   "source": [
    "from sklearn.feature_extraction.text import CountVectorizer, TfidfVectorizer\n",
    "\n",
    "vectorizer = TfidfVectorizer()\n",
    "train_x_vectors = vectorizer.fit_transform(train_x)\n",
    "\n",
    "test_x_vectors = vectorizer.transform(test_x)\n",
    "\n",
    "print(train_x_vectors[0].toarray())"
   ],
   "metadata": {
    "collapsed": false,
    "ExecuteTime": {
     "end_time": "2023-11-07T21:58:43.036084200Z",
     "start_time": "2023-11-07T21:58:41.502912400Z"
    }
   },
   "id": "f1418315ccbd1af1"
  },
  {
   "cell_type": "markdown",
   "source": [
    "#### Classification"
   ],
   "metadata": {
    "collapsed": false
   },
   "id": "e10c73bc900a49d6"
  },
  {
   "cell_type": "markdown",
   "source": [
    "#### Linear SVM"
   ],
   "metadata": {
    "collapsed": false
   },
   "id": "5d6739fffe51999"
  },
  {
   "cell_type": "code",
   "execution_count": 51,
   "outputs": [
    {
     "name": "stdout",
     "output_type": "stream",
     "text": [
      "diwanimjumbe aliyechaguliwa na wananchi wa kata ili awawakilishe katika baraza la jiji, manispaa au halmashauri ya wilaya\n"
     ]
    },
    {
     "data": {
      "text/plain": "array(['SWAHILI'], dtype='<U7')"
     },
     "execution_count": 51,
     "metadata": {},
     "output_type": "execute_result"
    }
   ],
   "source": [
    "from sklearn import svm\n",
    "\n",
    "clf_svm = svm.SVC(kernel='linear')\n",
    "\n",
    "clf_svm.fit(train_x_vectors, train_y)\n",
    "\n",
    "print(test_x[990])\n",
    "\n",
    "clf_svm.predict(test_x_vectors[990])"
   ],
   "metadata": {
    "collapsed": false,
    "ExecuteTime": {
     "end_time": "2023-11-07T22:16:29.178296500Z",
     "start_time": "2023-11-07T22:15:42.759022Z"
    }
   },
   "id": "8c3f12d7dbbce747"
  },
  {
   "cell_type": "markdown",
   "source": [
    "#### Decision Tree"
   ],
   "metadata": {
    "collapsed": false
   },
   "id": "3ca5a309e63713cf"
  },
  {
   "cell_type": "code",
   "execution_count": 44,
   "outputs": [
    {
     "name": "stdout",
     "output_type": "stream",
     "text": [
      "One who, or that which, gives energy, or acts in producing aneffect.\n"
     ]
    },
    {
     "data": {
      "text/plain": "array(['ENGLISH'], dtype='<U7')"
     },
     "execution_count": 44,
     "metadata": {},
     "output_type": "execute_result"
    }
   ],
   "source": [
    "from sklearn.tree import DecisionTreeClassifier\n",
    "\n",
    "clf_dec = DecisionTreeClassifier()\n",
    "clf_dec.fit(train_x_vectors, train_y)\n",
    "\n",
    "print(test_x[0])\n",
    "clf_dec.predict(test_x_vectors[0])"
   ],
   "metadata": {
    "collapsed": false,
    "ExecuteTime": {
     "end_time": "2023-11-07T22:10:22.321855300Z",
     "start_time": "2023-11-07T22:10:10.813588500Z"
    }
   },
   "id": "c9a5e6797fdda218"
  },
  {
   "cell_type": "markdown",
   "source": [
    "#### Naive Bayes"
   ],
   "metadata": {
    "collapsed": false
   },
   "id": "79af61af7ae83c7f"
  },
  {
   "cell_type": "code",
   "execution_count": 52,
   "outputs": [
    {
     "name": "stdout",
     "output_type": "stream",
     "text": [
      "isotopuatomi yenye uzito tofauti na atomi nyingine\n"
     ]
    },
    {
     "data": {
      "text/plain": "array(['SWAHILI'], dtype='<U7')"
     },
     "execution_count": 52,
     "metadata": {},
     "output_type": "execute_result"
    }
   ],
   "source": [
    "from sklearn.naive_bayes import GaussianNB\n",
    "\n",
    "clf_gnb = DecisionTreeClassifier()\n",
    "clf_gnb.fit(train_x_vectors, train_y)\n",
    "\n",
    "print(test_x[2])\n",
    "clf_gnb.predict(test_x_vectors[2])"
   ],
   "metadata": {
    "collapsed": false,
    "ExecuteTime": {
     "end_time": "2023-11-07T22:16:48.935566500Z",
     "start_time": "2023-11-07T22:16:38.315417900Z"
    }
   },
   "id": "ac4d1ae4e5a58c58"
  },
  {
   "cell_type": "markdown",
   "source": [
    "#### Logistic Regression"
   ],
   "metadata": {
    "collapsed": false
   },
   "id": "188013fd02d1ee2d"
  },
  {
   "cell_type": "code",
   "execution_count": 53,
   "outputs": [
    {
     "data": {
      "text/plain": "array(['ENGLISH'], dtype='<U7')"
     },
     "execution_count": 53,
     "metadata": {},
     "output_type": "execute_result"
    }
   ],
   "source": [
    "from sklearn.linear_model import LogisticRegression\n",
    "\n",
    "clf_log = LogisticRegression()\n",
    "clf_log.fit(train_x_vectors, train_y)\n",
    "\n",
    "clf_log.predict(test_x_vectors[0])"
   ],
   "metadata": {
    "collapsed": false,
    "ExecuteTime": {
     "end_time": "2023-11-07T22:16:59.912328700Z",
     "start_time": "2023-11-07T22:16:58.088473200Z"
    }
   },
   "id": "c98d9f48dc1ea339"
  },
  {
   "cell_type": "markdown",
   "source": [
    "#### Evaluation"
   ],
   "metadata": {
    "collapsed": false
   },
   "id": "b300226afc1860ae"
  },
  {
   "cell_type": "code",
   "execution_count": 54,
   "outputs": [
    {
     "name": "stdout",
     "output_type": "stream",
     "text": [
      "0.9883334463813335\n",
      "0.9750390015600624\n",
      "0.9752424879603879\n",
      "0.9881299599810079\n"
     ]
    }
   ],
   "source": [
    "# Mean accuracy\n",
    "print(clf_svm.score(test_x_vectors, test_y))\n",
    "print(clf_dec.score(test_x_vectors, test_y))\n",
    "print(clf_gnb.score(test_x_vectors, test_y))\n",
    "print(clf_log.score(test_x_vectors, test_y))"
   ],
   "metadata": {
    "collapsed": false,
    "ExecuteTime": {
     "end_time": "2023-11-07T22:17:49.508752800Z",
     "start_time": "2023-11-07T22:17:42.042579700Z"
    }
   },
   "id": "9548d9561330bff0"
  },
  {
   "cell_type": "code",
   "execution_count": 55,
   "outputs": [
    {
     "data": {
      "text/plain": "array([0.99065522, 0.98447653])"
     },
     "execution_count": 55,
     "metadata": {},
     "output_type": "execute_result"
    }
   ],
   "source": [
    "# F1 scores\n",
    "from sklearn.metrics import f1_score\n",
    "\n",
    "f1_score(test_y, clf_svm.predict(test_x_vectors), average=None, labels=[Language.ENGLISH, Language.SWAHILI])\n",
    "# f1_score(test_y, clf_dec.predict(test_x_vectors), average=None, labels=[Language.ENGLISH, Language.SWAHILI])\n",
    "# f1_score(test_y, clf_gnb.predict(test_x_vectors), average=None, labels=[Language.ENGLISH, Language.SWAHILI])\n",
    "# f1_score(test_y, clf_log.predict(test_x_vectors), average=None, labels=[Language.ENGLISH, Language.SWAHILI])\n"
   ],
   "metadata": {
    "collapsed": false,
    "ExecuteTime": {
     "end_time": "2023-11-07T22:19:56.213836800Z",
     "start_time": "2023-11-07T22:19:49.657399900Z"
    }
   },
   "id": "55a0fb815bd1c0c"
  },
  {
   "cell_type": "code",
   "execution_count": 70,
   "outputs": [
    {
     "data": {
      "text/plain": "array(['SWAHILI', 'ENGLISH', 'SWAHILI', 'ENGLISH'], dtype='<U7')"
     },
     "execution_count": 70,
     "metadata": {},
     "output_type": "execute_result"
    }
   ],
   "source": [
    "test_set = ['tazama mwanakondoo wa Mungu', 'behold the lamb of God', ' mimi', ' because of']\n",
    "\n",
    "new_test = vectorizer.transform(test_set)\n",
    "\n",
    "clf_svm.predict(new_test)"
   ],
   "metadata": {
    "collapsed": false,
    "ExecuteTime": {
     "end_time": "2023-11-07T22:25:31.115106500Z",
     "start_time": "2023-11-07T22:25:31.089952200Z"
    }
   },
   "id": "f06cde67dfefab48"
  },
  {
   "cell_type": "markdown",
   "source": [
    "#### Tuning of the model(with Grid Search)"
   ],
   "metadata": {
    "collapsed": false
   },
   "id": "8671bd266b1f0dd8"
  },
  {
   "cell_type": "code",
   "execution_count": 72,
   "outputs": [
    {
     "data": {
      "text/plain": "GridSearchCV(cv=5, estimator=SVC(),\n             param_grid={'C': (1, 4, 8, 16, 32), 'kernel': ('linear', 'rbf')})",
      "text/html": "<style>#sk-container-id-1 {color: black;}#sk-container-id-1 pre{padding: 0;}#sk-container-id-1 div.sk-toggleable {background-color: white;}#sk-container-id-1 label.sk-toggleable__label {cursor: pointer;display: block;width: 100%;margin-bottom: 0;padding: 0.3em;box-sizing: border-box;text-align: center;}#sk-container-id-1 label.sk-toggleable__label-arrow:before {content: \"▸\";float: left;margin-right: 0.25em;color: #696969;}#sk-container-id-1 label.sk-toggleable__label-arrow:hover:before {color: black;}#sk-container-id-1 div.sk-estimator:hover label.sk-toggleable__label-arrow:before {color: black;}#sk-container-id-1 div.sk-toggleable__content {max-height: 0;max-width: 0;overflow: hidden;text-align: left;background-color: #f0f8ff;}#sk-container-id-1 div.sk-toggleable__content pre {margin: 0.2em;color: black;border-radius: 0.25em;background-color: #f0f8ff;}#sk-container-id-1 input.sk-toggleable__control:checked~div.sk-toggleable__content {max-height: 200px;max-width: 100%;overflow: auto;}#sk-container-id-1 input.sk-toggleable__control:checked~label.sk-toggleable__label-arrow:before {content: \"▾\";}#sk-container-id-1 div.sk-estimator input.sk-toggleable__control:checked~label.sk-toggleable__label {background-color: #d4ebff;}#sk-container-id-1 div.sk-label input.sk-toggleable__control:checked~label.sk-toggleable__label {background-color: #d4ebff;}#sk-container-id-1 input.sk-hidden--visually {border: 0;clip: rect(1px 1px 1px 1px);clip: rect(1px, 1px, 1px, 1px);height: 1px;margin: -1px;overflow: hidden;padding: 0;position: absolute;width: 1px;}#sk-container-id-1 div.sk-estimator {font-family: monospace;background-color: #f0f8ff;border: 1px dotted black;border-radius: 0.25em;box-sizing: border-box;margin-bottom: 0.5em;}#sk-container-id-1 div.sk-estimator:hover {background-color: #d4ebff;}#sk-container-id-1 div.sk-parallel-item::after {content: \"\";width: 100%;border-bottom: 1px solid gray;flex-grow: 1;}#sk-container-id-1 div.sk-label:hover label.sk-toggleable__label {background-color: #d4ebff;}#sk-container-id-1 div.sk-serial::before {content: \"\";position: absolute;border-left: 1px solid gray;box-sizing: border-box;top: 0;bottom: 0;left: 50%;z-index: 0;}#sk-container-id-1 div.sk-serial {display: flex;flex-direction: column;align-items: center;background-color: white;padding-right: 0.2em;padding-left: 0.2em;position: relative;}#sk-container-id-1 div.sk-item {position: relative;z-index: 1;}#sk-container-id-1 div.sk-parallel {display: flex;align-items: stretch;justify-content: center;background-color: white;position: relative;}#sk-container-id-1 div.sk-item::before, #sk-container-id-1 div.sk-parallel-item::before {content: \"\";position: absolute;border-left: 1px solid gray;box-sizing: border-box;top: 0;bottom: 0;left: 50%;z-index: -1;}#sk-container-id-1 div.sk-parallel-item {display: flex;flex-direction: column;z-index: 1;position: relative;background-color: white;}#sk-container-id-1 div.sk-parallel-item:first-child::after {align-self: flex-end;width: 50%;}#sk-container-id-1 div.sk-parallel-item:last-child::after {align-self: flex-start;width: 50%;}#sk-container-id-1 div.sk-parallel-item:only-child::after {width: 0;}#sk-container-id-1 div.sk-dashed-wrapped {border: 1px dashed gray;margin: 0 0.4em 0.5em 0.4em;box-sizing: border-box;padding-bottom: 0.4em;background-color: white;}#sk-container-id-1 div.sk-label label {font-family: monospace;font-weight: bold;display: inline-block;line-height: 1.2em;}#sk-container-id-1 div.sk-label-container {text-align: center;}#sk-container-id-1 div.sk-container {/* jupyter's `normalize.less` sets `[hidden] { display: none; }` but bootstrap.min.css set `[hidden] { display: none !important; }` so we also need the `!important` here to be able to override the default hidden behavior on the sphinx rendered scikit-learn.org. See: https://github.com/scikit-learn/scikit-learn/issues/21755 */display: inline-block !important;position: relative;}#sk-container-id-1 div.sk-text-repr-fallback {display: none;}</style><div id=\"sk-container-id-1\" class=\"sk-top-container\"><div class=\"sk-text-repr-fallback\"><pre>GridSearchCV(cv=5, estimator=SVC(),\n             param_grid={&#x27;C&#x27;: (1, 4, 8, 16, 32), &#x27;kernel&#x27;: (&#x27;linear&#x27;, &#x27;rbf&#x27;)})</pre><b>In a Jupyter environment, please rerun this cell to show the HTML representation or trust the notebook. <br />On GitHub, the HTML representation is unable to render, please try loading this page with nbviewer.org.</b></div><div class=\"sk-container\" hidden><div class=\"sk-item sk-dashed-wrapped\"><div class=\"sk-label-container\"><div class=\"sk-label sk-toggleable\"><input class=\"sk-toggleable__control sk-hidden--visually\" id=\"sk-estimator-id-1\" type=\"checkbox\" ><label for=\"sk-estimator-id-1\" class=\"sk-toggleable__label sk-toggleable__label-arrow\">GridSearchCV</label><div class=\"sk-toggleable__content\"><pre>GridSearchCV(cv=5, estimator=SVC(),\n             param_grid={&#x27;C&#x27;: (1, 4, 8, 16, 32), &#x27;kernel&#x27;: (&#x27;linear&#x27;, &#x27;rbf&#x27;)})</pre></div></div></div><div class=\"sk-parallel\"><div class=\"sk-parallel-item\"><div class=\"sk-item\"><div class=\"sk-label-container\"><div class=\"sk-label sk-toggleable\"><input class=\"sk-toggleable__control sk-hidden--visually\" id=\"sk-estimator-id-2\" type=\"checkbox\" ><label for=\"sk-estimator-id-2\" class=\"sk-toggleable__label sk-toggleable__label-arrow\">estimator: SVC</label><div class=\"sk-toggleable__content\"><pre>SVC()</pre></div></div></div><div class=\"sk-serial\"><div class=\"sk-item\"><div class=\"sk-estimator sk-toggleable\"><input class=\"sk-toggleable__control sk-hidden--visually\" id=\"sk-estimator-id-3\" type=\"checkbox\" ><label for=\"sk-estimator-id-3\" class=\"sk-toggleable__label sk-toggleable__label-arrow\">SVC</label><div class=\"sk-toggleable__content\"><pre>SVC()</pre></div></div></div></div></div></div></div></div></div></div>"
     },
     "execution_count": 72,
     "metadata": {},
     "output_type": "execute_result"
    }
   ],
   "source": [
    "from sklearn.model_selection import GridSearchCV\n",
    "\n",
    "parameters = {'kernel': ('linear', 'rbf'), 'C': (1,4,8,16,32)}\n",
    "\n",
    "svc = svm.SVC()\n",
    "clf = GridSearchCV(svc, parameters, cv=5)\n",
    "clf.fit(train_x_vectors, train_y)"
   ],
   "metadata": {
    "collapsed": false,
    "ExecuteTime": {
     "end_time": "2023-11-07T23:17:30.032303600Z",
     "start_time": "2023-11-07T22:29:35.611812300Z"
    }
   },
   "id": "b1b8b5f57cf0a195"
  },
  {
   "cell_type": "markdown",
   "source": [
    "#### Save Model"
   ],
   "metadata": {
    "collapsed": false
   },
   "id": "5e8afe9b9e090d1"
  },
  {
   "cell_type": "code",
   "execution_count": 73,
   "outputs": [],
   "source": [
    "import pickle\n",
    "\n",
    "with open('C:\\\\Users\\\\Admin\\\\Documents\\\\DATA SCIENCE\\\\Data Analysis And Visualisation\\\\Ten Libraries\\\\language_detection\\\\language_detector.pkl', 'wb') as f:\n",
    "    pickle.dump(clf, f)"
   ],
   "metadata": {
    "collapsed": false,
    "ExecuteTime": {
     "end_time": "2023-11-08T05:43:07.609729700Z",
     "start_time": "2023-11-08T05:43:07.594481200Z"
    }
   },
   "id": "ec6164bf8271d3c4"
  },
  {
   "cell_type": "markdown",
   "source": [
    "#### Load model"
   ],
   "metadata": {
    "collapsed": false
   },
   "id": "2616c425e780c622"
  },
  {
   "cell_type": "code",
   "execution_count": 74,
   "outputs": [],
   "source": [
    "with open('C:\\\\Users\\\\Admin\\\\Documents\\\\DATA SCIENCE\\\\Data Analysis And Visualisation\\\\Ten Libraries\\\\language_detection\\\\language_detector.pkl', 'rb') as f:\n",
    "    loaded_clf = pickle.load(f)"
   ],
   "metadata": {
    "collapsed": false,
    "ExecuteTime": {
     "end_time": "2023-11-08T05:43:09.676976400Z",
     "start_time": "2023-11-08T05:43:09.646808300Z"
    }
   },
   "id": "eb8b6d30705f3af3"
  },
  {
   "cell_type": "code",
   "execution_count": 75,
   "outputs": [
    {
     "name": "stdout",
     "output_type": "stream",
     "text": [
      "One who, or that which, gives energy, or acts in producing aneffect.\n"
     ]
    },
    {
     "data": {
      "text/plain": "array(['ENGLISH'], dtype='<U7')"
     },
     "execution_count": 75,
     "metadata": {},
     "output_type": "execute_result"
    }
   ],
   "source": [
    "print(test_x[0])\n",
    "loaded_clf.predict(test_x_vectors[0])"
   ],
   "metadata": {
    "collapsed": false,
    "ExecuteTime": {
     "end_time": "2023-11-08T05:43:12.110564200Z",
     "start_time": "2023-11-08T05:43:12.030447900Z"
    }
   },
   "id": "9a8ee14cc773b15f"
  },
  {
   "cell_type": "code",
   "execution_count": 85,
   "outputs": [
    {
     "name": "stdout",
     "output_type": "stream",
     "text": [
      "isotopuatomi yenye uzito tofauti na atomi nyingine\n"
     ]
    },
    {
     "data": {
      "text/plain": "array(['SWAHILI'], dtype='<U7')"
     },
     "execution_count": 85,
     "metadata": {},
     "output_type": "execute_result"
    }
   ],
   "source": [
    "print(test_x[2])\n",
    "loaded_clf.predict(test_x_vectors[2])"
   ],
   "metadata": {
    "collapsed": false,
    "ExecuteTime": {
     "end_time": "2023-11-08T06:03:38.336999400Z",
     "start_time": "2023-11-08T06:03:38.290576300Z"
    }
   },
   "id": "dbb1deb37267d977"
  },
  {
   "cell_type": "code",
   "execution_count": 99,
   "outputs": [
    {
     "data": {
      "text/plain": "array(['ENGLISH'], dtype='<U7')"
     },
     "execution_count": 99,
     "metadata": {},
     "output_type": "execute_result"
    }
   ],
   "source": [
    "test_set = []\n",
    "sentence = input(\"Enter a phrase to predict whether it is in english or swahili: \")\n",
    "test_set.clear()\n",
    "test_set.append(sentence)\n",
    "new_test = vectorizer.transform(test_set)\n",
    "\n",
    "clf_svm.predict(new_test)"
   ],
   "metadata": {
    "collapsed": false,
    "ExecuteTime": {
     "end_time": "2023-11-08T06:29:32.982829200Z",
     "start_time": "2023-11-08T06:29:00.769113100Z"
    }
   },
   "id": "65918ccc6d276eb2"
  },
  {
   "cell_type": "code",
   "execution_count": 94,
   "outputs": [],
   "source": [
    "### very accurate"
   ],
   "metadata": {
    "collapsed": false,
    "ExecuteTime": {
     "end_time": "2023-11-08T06:05:33.083013100Z",
     "start_time": "2023-11-08T06:05:33.017385800Z"
    }
   },
   "id": "7d45715466b44b0e"
  },
  {
   "cell_type": "code",
   "execution_count": null,
   "outputs": [],
   "source": [],
   "metadata": {
    "collapsed": false
   },
   "id": "62ec7358a24d5522"
  }
 ],
 "metadata": {
  "kernelspec": {
   "display_name": "Python 3",
   "language": "python",
   "name": "python3"
  },
  "language_info": {
   "codemirror_mode": {
    "name": "ipython",
    "version": 2
   },
   "file_extension": ".py",
   "mimetype": "text/x-python",
   "name": "python",
   "nbconvert_exporter": "python",
   "pygments_lexer": "ipython2",
   "version": "2.7.6"
  }
 },
 "nbformat": 4,
 "nbformat_minor": 5
}
